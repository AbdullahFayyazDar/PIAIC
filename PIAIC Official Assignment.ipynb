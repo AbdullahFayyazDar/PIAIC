{
 "cells": [
  {
   "cell_type": "markdown",
   "metadata": {},
   "source": [
    "Name : Abdullah Fayyaz Dar"
   ]
  },
  {
   "cell_type": "markdown",
   "metadata": {},
   "source": [
    "PIAIC Roll No: AIC028206"
   ]
  },
  {
   "cell_type": "markdown",
   "metadata": {},
   "source": [
    "Instructors: Muhammad Ali & Muhammad Hamza Khan"
   ]
  },
  {
   "cell_type": "markdown",
   "metadata": {},
   "source": [
    "Campus:  Saylani Head Office"
   ]
  },
  {
   "cell_type": "markdown",
   "metadata": {},
   "source": [
    "Timing:  Sunday (6:45 to 9:45)"
   ]
  },
  {
   "cell_type": "markdown",
   "metadata": {},
   "source": [
    "# Calculate Area of a Circle\n"
   ]
  },
  {
   "cell_type": "code",
   "execution_count": 1,
   "metadata": {},
   "outputs": [
    {
     "name": "stdout",
     "output_type": "stream",
     "text": [
      "Enter The Radius Of Circle For Area = 25\n",
      "Area Of Circle = 1963.75 \n"
     ]
    }
   ],
   "source": [
    "r=float(input(\"Enter The Radius Of Circle For Area = \"))\n",
    "a=float (3.142*(r*r))\n",
    "print(f\"Area Of Circle = {a} \")"
   ]
  },
  {
   "cell_type": "markdown",
   "metadata": {},
   "source": [
    "# Check Number either Positive, Negative or Zero"
   ]
  },
  {
   "cell_type": "code",
   "execution_count": 5,
   "metadata": {},
   "outputs": [
    {
     "name": "stdout",
     "output_type": "stream",
     "text": [
      "Enter Number = 7.2\n",
      "The number you entered is Positive\n"
     ]
    }
   ],
   "source": [
    "z=float(input(\"Enter Number = \"))\n",
    "if z>=0:\n",
    "    if z>0:\n",
    "        print(\"The number you entered is Positive\")\n",
    "    elif z==0:\n",
    "        print(\"The number you entered is Zero\")\n",
    "else:\n",
    "    print(\"The number you entered is Negative\")"
   ]
  },
  {
   "cell_type": "code",
   "execution_count": 6,
   "metadata": {},
   "outputs": [
    {
     "name": "stdout",
     "output_type": "stream",
     "text": [
      "Enter Number = -0.9\n",
      "The number you entered is Negative\n"
     ]
    }
   ],
   "source": [
    "z=float(input(\"Enter Number = \"))\n",
    "if z>=0:\n",
    "    if z>0:\n",
    "        print(\"The number you entered is Positive\")\n",
    "    elif z==0:\n",
    "        print(\"The number you entered is Zero\")\n",
    "else:\n",
    "    print(\"The number you entered is Negative\")"
   ]
  },
  {
   "cell_type": "code",
   "execution_count": 4,
   "metadata": {},
   "outputs": [
    {
     "name": "stdout",
     "output_type": "stream",
     "text": [
      "Enter Number = 0\n",
      "The number you entered is Zero\n"
     ]
    }
   ],
   "source": [
    "z=float(input(\"Enter Number = \"))\n",
    "if z>=0:\n",
    "    if z>0:\n",
    "        print(\"The number you entered is Positive\")\n",
    "    elif z==0:\n",
    "        print(\"The number you entered is Zero\")\n",
    "else:\n",
    "    print(\"The number you entered is Negative\")"
   ]
  },
  {
   "cell_type": "markdown",
   "metadata": {},
   "source": [
    " # Divisibility Check between Two Numbers"
   ]
  },
  {
   "cell_type": "code",
   "execution_count": 19,
   "metadata": {},
   "outputs": [
    {
     "name": "stdout",
     "output_type": "stream",
     "text": [
      "Enter Numerator: 18\n",
      "Enter Denominator: 3\n",
      "Numbers completely  divisible\n"
     ]
    }
   ],
   "source": [
    "x= int(input(\"Enter Numerator: \"))\n",
    "y = int(input(\"Enter Denominator: \"))\n",
    "if x%y == 0:\n",
    "        print(\"Numbers completely  divisible\")\n",
    "        \n",
    "else:\n",
    "        print(\"Numbers aren't completely  divisible\")\n"
   ]
  },
  {
   "cell_type": "code",
   "execution_count": 18,
   "metadata": {},
   "outputs": [
    {
     "name": "stdout",
     "output_type": "stream",
     "text": [
      "Enter Numerator: 5\n",
      "Enter Denominator: 2.5\n",
      "Numbers completely  divisible\n"
     ]
    }
   ],
   "source": [
    "x= float(input(\"Enter Numerator: \"))\n",
    "y = float(input(\"Enter Denominator: \"))\n",
    "if x%y == 0:\n",
    "        print(\"Numbers completely  divisible\")\n",
    "        \n",
    "else:\n",
    "        print(\"Numbers aren't completely  divisible\")\n"
   ]
  },
  {
   "cell_type": "markdown",
   "metadata": {},
   "source": [
    "# Calculate Volume of a Sphere"
   ]
  },
  {
   "cell_type": "code",
   "execution_count": 21,
   "metadata": {},
   "outputs": [
    {
     "name": "stdout",
     "output_type": "stream",
     "text": [
      "Enter Radius of sphere: 4\n",
      "Volume of the Sphere with Radius 4.0 is 268.082573106329\n"
     ]
    }
   ],
   "source": [
    "from math import pi\n",
    "r = float(input('Radius of the Sphere: '))\n",
    "v = (4/3) * (pi * radius ** 3)\n",
    "print(\"Volume of the Sphere with Radius \" + str(r) + \" is \" + str(v))"
   ]
  },
  {
   "cell_type": "code",
   "execution_count": 22,
   "metadata": {},
   "outputs": [
    {
     "name": "stdout",
     "output_type": "stream",
     "text": [
      "Radius of the Sphere: 5.7\n",
      "Volume of the Sphere with Radius 5.7 is 775.7346243950061\n"
     ]
    }
   ],
   "source": [
    "from math import pi\n",
    "r = float(input('Radius of the Sphere: '))\n",
    "v = (4/3) * (pi * radius ** 3)\n",
    "print(\"Volume of the Sphere with Radius \" + str(r) + \" is \" + str(v))"
   ]
  },
  {
   "cell_type": "markdown",
   "metadata": {},
   "source": [
    "# Copy String & Times"
   ]
  },
  {
   "cell_type": "code",
   "execution_count": 29,
   "metadata": {},
   "outputs": [
    {
     "name": "stdout",
     "output_type": "stream",
     "text": [
      "Enter desired string = Bon \n",
      "Duplication of string required = 2\n",
      "Bon  Bon  "
     ]
    }
   ],
   "source": [
    "x=(input(\"Enter desired string = \"))\n",
    "y=int(input(\"Duplication of string required = \"))\n",
    "for i in range (1,y+1):\n",
    "    print(x,end= \" \")"
   ]
  },
  {
   "cell_type": "markdown",
   "metadata": {},
   "source": [
    "# Check if number is Even or Odd"
   ]
  },
  {
   "cell_type": "code",
   "execution_count": 32,
   "metadata": {},
   "outputs": [
    {
     "name": "stdout",
     "output_type": "stream",
     "text": [
      "Enter Number = 5\n",
      "5 is an Odd Number\n"
     ]
    }
   ],
   "source": [
    "x=int(input(\"Enter Number = \"))\n",
    "if x>=0:\n",
    "    if x%2==0:\n",
    "        print(f\"{x} is an Even Number\")\n",
    "    else:\n",
    "        print(f\"{x} is an Odd Number\")\n"
   ]
  },
  {
   "cell_type": "code",
   "execution_count": 33,
   "metadata": {},
   "outputs": [
    {
     "name": "stdout",
     "output_type": "stream",
     "text": [
      "Enter Number = 8\n",
      "8 is an Even Number\n"
     ]
    }
   ],
   "source": [
    "x=int(input(\"Enter Number = \"))\n",
    "if x>=0:\n",
    "    if x%2==0:\n",
    "        print(f\"{x} is an Even Number\")\n",
    "    else:\n",
    "        print(f\"{x} is an Odd Number\")\n"
   ]
  },
  {
   "cell_type": "markdown",
   "metadata": {},
   "source": [
    "# Vowel Tester"
   ]
  },
  {
   "cell_type": "code",
   "execution_count": 40,
   "metadata": {},
   "outputs": [
    {
     "name": "stdout",
     "output_type": "stream",
     "text": [
      "Enter Alphabet = g\n",
      "G is a consonant\n"
     ]
    }
   ],
   "source": [
    "x=str(input(\"Enter Alphabet = \"))\n",
    "x=x.upper()\n",
    "if x=='A':\n",
    "    print(f\"{x} is a vowel\")\n",
    "elif x=='E':\n",
    "    print(f\"{x} is a vowel\")\n",
    "elif x=='I':\n",
    "    print(f\"{x} is a vowel\")\n",
    "elif x=='O':\n",
    "    print(f\"{x} is a vowel\")\n",
    "elif x=='U':\n",
    "    print(f\"{x} is a vowel\")\n",
    "else:\n",
    "    print(f\"{x} is a consonant\")"
   ]
  },
  {
   "cell_type": "code",
   "execution_count": 41,
   "metadata": {},
   "outputs": [
    {
     "name": "stdout",
     "output_type": "stream",
     "text": [
      "Enter Alphabet = u\n",
      "U is a vowel\n"
     ]
    }
   ],
   "source": [
    "x=str(input(\"Enter Alphabet = \"))\n",
    "x=x.upper()\n",
    "if x=='A':\n",
    "    print(f\"{x} is a vowel\")\n",
    "elif x=='E':\n",
    "    print(f\"{x} is a vowel\")\n",
    "elif x=='I':\n",
    "    print(f\"{x} is a vowel\")\n",
    "elif x=='O':\n",
    "    print(f\"{x} is a vowel\")\n",
    "elif x=='U':\n",
    "    print(f\"{x} is a vowel\")\n",
    "else:\n",
    "    print(f\"{x} is a consonant\")"
   ]
  },
  {
   "cell_type": "markdown",
   "metadata": {},
   "source": [
    " # Triangle area"
   ]
  },
  {
   "cell_type": "code",
   "execution_count": 3,
   "metadata": {},
   "outputs": [
    {
     "name": "stdout",
     "output_type": "stream",
     "text": [
      "Base of Triangle : 17\n",
      "Height of Triangle : 21\n",
      "Area of Triangle : 178.5\n"
     ]
    }
   ],
   "source": [
    "b = float(input(\"Base of Triangle : \"))\n",
    "h = float(input(\"Height of Triangle : \"))\n",
    "a= (b*h)/2 \n",
    "print(\"Area of Triangle : \"+str(a))"
   ]
  },
  {
   "cell_type": "markdown",
   "metadata": {},
   "source": [
    "# Calculate Interest"
   ]
  },
  {
   "cell_type": "code",
   "execution_count": 4,
   "metadata": {},
   "outputs": [
    {
     "name": "stdout",
     "output_type": "stream",
     "text": [
      "Enter The Principal Amount = 10000\n",
      "Enter The Rate of Interest in % = 2.7\n",
      "Enter Years for Investment = 3\n",
      "After 3.0 years your principal amount 10000.0 over an interest rate of 2.7% will be 506530\n"
     ]
    }
   ],
   "source": [
    "p=float(input(\"Enter The Principal Amount = \"))\n",
    "i=float(input(\"Enter The Rate of Interest in % = \"))\n",
    "y=float(input(\"Enter Years for Investment = \"))\n",
    "t=int(p*((1+(i))** y))\n",
    "print(f\"After {y} years your principal amount {p} over an interest rate of {i}% will be {t}\")"
   ]
  },
  {
   "cell_type": "markdown",
   "metadata": {},
   "source": [
    "# Euclidean distance"
   ]
  },
  {
   "cell_type": "code",
   "execution_count": 7,
   "metadata": {},
   "outputs": [
    {
     "name": "stdout",
     "output_type": "stream",
     "text": [
      "Value for coordinate x1 8\n",
      "Value for coordinate x2 3\n",
      "Value for coordinate y1 5\n",
      "Value for coordinate y2 9\n",
      "Distance between points (8, 3) and (5, 9) is (-3, 6)\n"
     ]
    }
   ],
   "source": [
    "import math\n",
    "x1=int(input(\"Value for coordinate x1 \"))\n",
    "x2=int(input(\"Value for coordinate x2 \"))\n",
    "y1=int(input(\"Value for coordinate y1 \"))\n",
    "y2=int(input(\"Value for coordinate y2 \"))\n",
    "\n",
    "print(f\"Distance between points ({x1}, {x2}) and ({y1}, {y2}) is ({y1-x1}, {y2-x2})\")"
   ]
  },
  {
   "cell_type": "markdown",
   "metadata": {},
   "source": [
    "# Feet to Centimeter Converter"
   ]
  },
  {
   "cell_type": "code",
   "execution_count": 10,
   "metadata": {},
   "outputs": [
    {
     "name": "stdout",
     "output_type": "stream",
     "text": [
      "Value in Feets = 6\n",
      "There are 182.88 Cm in 6.0 ft\n"
     ]
    }
   ],
   "source": [
    "z=float(input(\"Value in Feets = \"))\n",
    "print(f\"There are {z*30.48} Cm in {z} ft\")"
   ]
  },
  {
   "cell_type": "markdown",
   "metadata": {},
   "source": [
    "# BMI Calculator"
   ]
  },
  {
   "cell_type": "code",
   "execution_count": 11,
   "metadata": {},
   "outputs": [
    {
     "name": "stdout",
     "output_type": "stream",
     "text": [
      "Height In Centimeters= 182.88\n",
      "Weight in Kgs= 58\n",
      "Your BMI is 17.341855671365664\n"
     ]
    }
   ],
   "source": [
    "h=float(input(\"Height In Centimeters= \"))\n",
    "w=float(input(\"Weight in Kgs= \"))\n",
    "x=(w/h/h)*10000\n",
    "print(f\"Your BMI is {x}\")"
   ]
  },
  {
   "cell_type": "markdown",
   "metadata": {},
   "source": [
    "# Sum of n Positive Integers"
   ]
  },
  {
   "cell_type": "code",
   "execution_count": 16,
   "metadata": {},
   "outputs": [
    {
     "name": "stdout",
     "output_type": "stream",
     "text": [
      "Value Of n= 5\n",
      "Sum of n Positive integers till 20 is 0\n"
     ]
    }
   ],
   "source": [
    "x=int(input(\"Value Of n= \"))\n",
    "z=0\n",
    "for i in range(1,x+1):\n",
    "    x=x+i\n",
    "print(f\"Sum of n Positive integers till {x} is {z}\")"
   ]
  },
  {
   "cell_type": "markdown",
   "metadata": {},
   "source": [
    "# Digits Sum of a Number"
   ]
  },
  {
   "cell_type": "code",
   "execution_count": 18,
   "metadata": {},
   "outputs": [
    {
     "name": "stdout",
     "output_type": "stream",
     "text": [
      "Enter a number24\n",
      "Sum of 2+4 is : 6\n"
     ]
    }
   ],
   "source": [
    "z= input(\"Enter a number\")\n",
    "number_list = list(str(z))\n",
    "\n",
    "repeat = 1 \n",
    "result= 0;\n",
    "final_result = \"Sum of \"\n",
    "\n",
    "for position in range(len(number_list)):\n",
    "    \n",
    "    result = result + int(number_list[position])\n",
    "    num= str(number_list[position])\n",
    "    if repeat == 1:\n",
    "        final_result += num\n",
    "        repeat = repeat + 1\n",
    "    else:\n",
    "        final_result += \"+\" + num\n",
    "    \n",
    "    \n",
    "print(final_result + \" is : \" + str(result))"
   ]
  },
  {
   "cell_type": "code",
   "execution_count": 19,
   "metadata": {},
   "outputs": [
    {
     "name": "stdout",
     "output_type": "stream",
     "text": [
      "Enter a number5691\n",
      "Sum of 5+6+9+1 is : 21\n"
     ]
    }
   ],
   "source": [
    "z= input(\"Enter a number\")\n",
    "number_list = list(str(z))\n",
    "\n",
    "repeat = 1 \n",
    "result= 0;\n",
    "final_result = \"Sum of \"\n",
    "\n",
    "for position in range(len(number_list)):\n",
    "    \n",
    "    result = result + int(number_list[position])\n",
    "    num= str(number_list[position])\n",
    "    if repeat == 1:\n",
    "        final_result += num\n",
    "        repeat = repeat + 1\n",
    "    else:\n",
    "        final_result += \"+\" + num\n",
    "    \n",
    "    \n",
    "print(final_result + \" is : \" + str(result))"
   ]
  },
  {
   "cell_type": "code",
   "execution_count": null,
   "metadata": {},
   "outputs": [],
   "source": []
  }
 ],
 "metadata": {
  "kernelspec": {
   "display_name": "Python 3",
   "language": "python",
   "name": "python3"
  },
  "language_info": {
   "codemirror_mode": {
    "name": "ipython",
    "version": 3
   },
   "file_extension": ".py",
   "mimetype": "text/x-python",
   "name": "python",
   "nbconvert_exporter": "python",
   "pygments_lexer": "ipython3",
   "version": "3.7.3"
  }
 },
 "nbformat": 4,
 "nbformat_minor": 2
}
